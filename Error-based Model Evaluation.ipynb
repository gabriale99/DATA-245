{
  "cells": [
    {
      "cell_type": "markdown",
      "metadata": {
        "id": "5SOGDC3XP-Gb"
      },
      "source": [
        "**6. (25%, coding assignment) What is ordinary least square (OLS) method to obtain linear regression\n",
        "model weights? See https://en.wikipedia.org/wiki/Ordinary_least_squares. Can you implement\n",
        "this OLS method by Python to predict following dataset\n",
        "(https://drive.google.com/open?id=1oakZCv7g3mlmCSdv9J8kdSaqO5_6dIOw)?**"
      ]
    },
    {
      "cell_type": "markdown",
      "metadata": {
        "id": "40ofN2x6c9tr"
      },
      "source": [
        "**What is ordinary least square (OLS) method to obtain linear regression model weights?**\n",
        "\n",
        "Ordinary least squares (OLS) regression obtain the weights by minimizing the error of the prediction."
      ]
    },
    {
      "cell_type": "code",
      "execution_count": 65,
      "metadata": {
        "id": "gUWZYSnic3HU"
      },
      "outputs": [],
      "source": [
        "import numpy as np\n",
        "import pandas as pd"
      ]
    },
    {
      "cell_type": "code",
      "execution_count": 66,
      "metadata": {
        "id": "9zXk3gZWdgLQ"
      },
      "outputs": [],
      "source": [
        "def ols_predict(X, y):\n",
        "    X = np.concatenate((np.ones((X.shape[0], 1)), X), axis=1)\n",
        "    weights = np.dot(np.linalg.inv(np.dot(X.T, X)), np.dot(X.T, y))\n",
        "    pred = np.dot(X, weights)\n",
        "    return pred"
      ]
    },
    {
      "cell_type": "code",
      "execution_count": 67,
      "metadata": {
        "id": "j96Hit8JdT53"
      },
      "outputs": [],
      "source": [
        "# import file\n",
        "df = pd.read_csv('/student_scores.csv')"
      ]
    },
    {
      "cell_type": "code",
      "execution_count": 68,
      "metadata": {
        "id": "TUcrMUZyd9ZP"
      },
      "outputs": [],
      "source": [
        "X_val = df['Hours'].tolist()\n",
        "X_val = np.array([[x] for x in X_val])\n",
        "y_val = df['Scores'].values"
      ]
    },
    {
      "cell_type": "code",
      "execution_count": 69,
      "metadata": {
        "colab": {
          "base_uri": "https://localhost:8080/"
        },
        "id": "LN6nHaqndiBT",
        "outputId": "725e7bde-acad-4da7-c3ba-43d0d9c55109"
      },
      "outputs": [
        {
          "name": "stdout",
          "output_type": "stream",
          "text": [
            "    Actual  Prediction\n",
            "0       21   26.923182\n",
            "1       47   52.340271\n",
            "2       27   33.766244\n",
            "3       75   85.578002\n",
            "4       30   36.698985\n",
            "5       20   17.147378\n",
            "6       88   92.421065\n",
            "7       60   56.250592\n",
            "8       81   83.622842\n",
            "9       25   28.878343\n",
            "10      85   77.757360\n",
            "11      62   60.160913\n",
            "12      41   46.474789\n",
            "13      42   34.743825\n",
            "14      17   13.237057\n",
            "15      95   89.488324\n",
            "16      30   26.923182\n",
            "17      24   21.057700\n",
            "18      67   62.116074\n",
            "19      69   74.824618\n",
            "20      30   28.878343\n",
            "21      54   49.407530\n",
            "22      35   39.631726\n",
            "23      76   69.936717\n",
            "24      86   78.734940\n"
          ]
        }
      ],
      "source": [
        "prediction = ols_predict(X_val, y_val)\n",
        "result = pd.DataFrame({'Actual': y_val, 'Prediction': prediction})\n",
        "print(result)"
      ]
    }
  ],
  "metadata": {
    "colab": {
      "provenance": []
    },
    "kernelspec": {
      "display_name": "Python 3",
      "name": "python3"
    },
    "language_info": {
      "name": "python"
    }
  },
  "nbformat": 4,
  "nbformat_minor": 0
}
